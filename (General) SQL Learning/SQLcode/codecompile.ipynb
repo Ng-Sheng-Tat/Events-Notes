{
 "cells": [
  {
   "cell_type": "code",
   "execution_count": null,
   "metadata": {},
   "outputs": [],
   "source": [
    "cursor.execute(\"\"\"\n",
    "    CREATE TABLE Employee(\n",
    "        emp_id INTEGER, \n",
    "        first_name TEXT, \n",
    "        last_name TEXT,\n",
    "        sex TEXT, \n",
    "        salary INTEGER,\n",
    "        super_id INTEGER,\n",
    "        branch_id INTEGER,\n",
    "        PRIMARY KEY(emp_id)\n",
    ")\n",
    "\n",
    "\"\"\")"
   ]
  },
  {
   "cell_type": "code",
   "execution_count": null,
   "metadata": {},
   "outputs": [],
   "source": [
    "cursor.execute(\"\"\"\n",
    "    CREATE TABLE Branch(\n",
    "        branch_id INTEGER,\n",
    "        branch_name TEXT,\n",
    "        mgr_id INTEGER,\n",
    "        PRIMARY KEY(branch_id),\n",
    "        FOREIGN KEY(mgr_id) REFERENCES Employee(emp_id)\n",
    ")\n",
    "\n",
    "\"\"\")"
   ]
  },
  {
   "cell_type": "code",
   "execution_count": null,
   "metadata": {},
   "outputs": [],
   "source": [
    "cursor.execute(\"\"\"\n",
    "    CREATE TABLE Works_With(\n",
    "        emp_id INTEGER,\n",
    "        client_id INTEGER,\n",
    "        total_sales INTEGER\n",
    "\n",
    ")\n",
    "\n",
    "\"\"\")"
   ]
  },
  {
   "cell_type": "code",
   "execution_count": null,
   "metadata": {},
   "outputs": [],
   "source": [
    "cursor.execute(\"\"\"\n",
    "    CREATE TABLE Client(\n",
    "    client_id INTEGER,\n",
    "    client_name TEXT,\n",
    "    branch_id INTEGER,\n",
    "    PRIMARY KEY(client_id),\n",
    "    FOREIGN KEY(branch_id) REFERENCES Branch(branch_id)\n",
    ")\n",
    "\n",
    "\"\"\")"
   ]
  },
  {
   "cell_type": "code",
   "execution_count": null,
   "metadata": {},
   "outputs": [],
   "source": [
    "INSERT INTO Employee VALUES (100, 'David', 'Wallace', 'M', 250000, NULL, 1)\n",
    "\n",
    "\n",
    "objs = [\n",
    "    (101, 'Jan', 'Levinson', 'F', 110000, 100, 1),\n",
    "    (102, 'Michael', 'Scott', 'M', 75000, 100, 2)\n",
    "]\n",
    "\n",
    "cursor.executemany(\"\"\"\n",
    "    INSERT INTO Employee VALUES (?, ?, ?, ?, ?, ?, ?)\n",
    "\n",
    "\"\"\", objs)"
   ]
  },
  {
   "cell_type": "code",
   "execution_count": null,
   "metadata": {},
   "outputs": [],
   "source": [
    "lst = []\n",
    "data = pd.read_excel('datadb.xlsx', sheet_name='Employee')\n",
    "records = data.to_records(index=False)\n",
    "result = list(records)\n",
    "\n",
    "for i in range(len(result)):\n",
    "\n",
    "    cursor.execute(f\"\"\"\n",
    "        INSERT INTO Employee VALUES {result[i]}\n",
    "\n",
    "    \"\"\")"
   ]
  },
  {
   "cell_type": "code",
   "execution_count": null,
   "metadata": {},
   "outputs": [],
   "source": [
    "ALTER TABLE Employee ADD addedcolumn TEXT"
   ]
  },
  {
   "cell_type": "code",
   "execution_count": null,
   "metadata": {},
   "outputs": [],
   "source": [
    "SELECT COUNT(salary), SEX FROM Employee GROUP BY sex "
   ]
  },
  {
   "cell_type": "code",
   "execution_count": null,
   "metadata": {},
   "outputs": [],
   "source": [
    "cursor.execute(\"\"\"\n",
    "    SELECT Employee.first_name FROM Employee \n",
    "    UNION SELECT Employee.last_name FROM Employee \n",
    "    UNION SELECT Branch.branch_name FROM Branch\n",
    "\"\"\")"
   ]
  },
  {
   "cell_type": "code",
   "execution_count": null,
   "metadata": {},
   "outputs": [],
   "source": [
    "cursor.execute(\"\"\"\n",
    "    SELECT Employee.first_name, Branch.branch_name \n",
    "    FROM Branch JOIN Employee \n",
    "    ON Employee.emp_id = Branch.mgr_id\n",
    "\"\"\")"
   ]
  },
  {
   "cell_type": "code",
   "execution_count": null,
   "metadata": {},
   "outputs": [],
   "source": [
    "cursor.execute(\"\"\"\n",
    "    SELECT first_name, last_name FROM Employee \n",
    "    WHERE salary IN (SELECT salary FROM Employee WHERE sex = 'F') \n",
    "\"\"\")"
   ]
  },
  {
   "cell_type": "code",
   "execution_count": null,
   "metadata": {},
   "outputs": [],
   "source": [
    "cursor.execute(\"\"\"\n",
    "    -- THIS IS A COMMENT\n",
    "    SELECT DISTINCT(branch_id) FROM Employee\n",
    "\"\"\")"
   ]
  },
  {
   "cell_type": "code",
   "execution_count": null,
   "metadata": {},
   "outputs": [],
   "source": []
  },
  {
   "cell_type": "code",
   "execution_count": null,
   "metadata": {},
   "outputs": [],
   "source": []
  },
  {
   "cell_type": "code",
   "execution_count": null,
   "metadata": {},
   "outputs": [],
   "source": []
  },
  {
   "cell_type": "code",
   "execution_count": null,
   "metadata": {},
   "outputs": [],
   "source": []
  },
  {
   "cell_type": "markdown",
   "metadata": {},
   "source": [
    "**Final Code Implementations**"
   ]
  },
  {
   "cell_type": "code",
   "execution_count": null,
   "metadata": {},
   "outputs": [],
   "source": [
    "import sqlite3\n",
    "\n",
    "conn = sqlite3.connect('test.db')\n",
    "\n",
    "cursor = conn.cursor()\n",
    "\n",
    "cursor.execute(\"\"\"\n",
    "    CREATE TABLE testtable(\n",
    "        rowid INTEGER,\n",
    "        Name TEXT, \n",
    "        Email TEXT,\n",
    "        PRIMARY KEY(rowid)\n",
    "    )\n",
    "\"\"\")\n",
    "\n",
    "cursor.execute(\"INSERT INTO testtable VALUES('1', 'testperson1', 'test@gmail.com')\")\n",
    "\n",
    "cursor.execute(\"SELECT * FROM testtable\")\n",
    "\n",
    "res = cursor.fetchall()\n",
    "\n",
    "for i in res:\n",
    "    print(i)\n",
    "\n",
    "conn.commit()\n",
    "\n",
    "conn.close()"
   ]
  },
  {
   "cell_type": "code",
   "execution_count": null,
   "metadata": {},
   "outputs": [],
   "source": [
    "import sqlite3\n",
    "import os\n",
    "import pandas as pd\n",
    "\n",
    "lst = []\n",
    "data = pd.read_excel('empdb.xlsx', sheet_name='employee')\n",
    "records = data.to_records(index=False)\n",
    "result = list(records)\n",
    "\n",
    "conn = sqlite3.connect('empdb.db')\n",
    "\n",
    "cursor = conn.cursor()\n",
    "\n",
    "cursor.execute(\"\"\"\n",
    "    CREATE TABLE employee(\n",
    "    EmployeeID INTEGER,\n",
    "    Age INTEGER,\n",
    "    Department TEXT,\n",
    "    DistanceFromHome INTEGER,\n",
    "    EducationField TEXT,\n",
    "    Gender TEXT,\n",
    "    JobRole TEXT,\n",
    "    MaritalStatus TEXT,\n",
    "    MonthlyIncome INTEGER, \n",
    "    OverTime TEXT,\n",
    "    PRIMARY KEY(EmployeeID)\n",
    "    )\n",
    "\"\"\")\n",
    "\n",
    "for i in range(len(result)):\n",
    "\n",
    "    cursor.execute(f\"\"\"\n",
    "        INSERT INTO employee VALUES {result[i]}\n",
    "    \"\"\")\n",
    "    print(result[i])\n",
    "\n",
    "cursor.execute(\"SELECT * FROM employee\")\n",
    "\n",
    "res = cursor.fetchall()\n",
    "\n",
    "for i in res:\n",
    "    print(i)\n",
    "\n",
    "# Commit command to the database\n",
    "conn.commit()\n",
    "\n",
    "# Close the connection explicitly\n",
    "conn.close()\n",
    "\n",
    "print(\"Execution completed successfully\")\n"
   ]
  },
  {
   "cell_type": "code",
   "execution_count": null,
   "metadata": {},
   "outputs": [],
   "source": [
    "import sqlite3\n",
    "import os\n",
    "import pandas as pd\n",
    "\n",
    "lst = []\n",
    "data = pd.read_excel('empdb.xlsx', sheet_name='employee')\n",
    "records = data.to_records(index=False)\n",
    "result = list(records)\n",
    "\n",
    "conn = sqlite3.connect('empdb.db')\n",
    "\n",
    "cursor = conn.cursor()\n",
    "\n",
    "cursor.execute(\"\"\"\n",
    "    CREATE TABLE employee(\n",
    "    EmployeeID INTEGER,\n",
    "    Age INTEGER,\n",
    "    Department TEXT NOT NULL,\n",
    "    DistanceFromHome INTEGER,\n",
    "    EducationField TEXT,\n",
    "    Gender TEXT,\n",
    "    JobRole TEXT,\n",
    "    MaritalStatus TEXT,\n",
    "    MonthlyIncome INTEGER, \n",
    "    OverTime TEXT,\n",
    "    PRIMARY KEY(EmployeeID)\n",
    "    )\n",
    "\"\"\")\n",
    "\n",
    "for i in range(len(result)):\n",
    "\n",
    "    cursor.execute(f\"\"\"\n",
    "        INSERT INTO employee VALUES {result[i]}\n",
    "    \"\"\")\n",
    "    # print(result[i])\n",
    "\n",
    "try:\n",
    "    cursor.execute(\"INSERT INTO employee(EmployeeID, Department) VALUES(450, 'dummydepartment')\")\n",
    "    print(\"Executed\")\n",
    "    cursor.execute(\"INSERT INTO employee(EmployeeID, Age) VALUES(452, 34)\")\n",
    "except:\n",
    "    print(\"Cannot enter null value\")\n",
    "\n",
    "cursor.execute(\"SELECT * FROM employee\")\n",
    "\n",
    "res = cursor.fetchall()\n",
    "\n",
    "for i in res:\n",
    "    print(i)\n",
    "\n",
    "# Commit command to the database\n",
    "conn.commit()\n",
    "\n",
    "# Close the connection explicitly\n",
    "conn.close()\n",
    "\n",
    "os.remove(\"empdb.db\") \n",
    "\n",
    "print(\"Execution completed successfully\")\n"
   ]
  }
 ],
 "metadata": {
  "kernelspec": {
   "display_name": "Python 3.8.13 ('SQL_py')",
   "language": "python",
   "name": "python3"
  },
  "language_info": {
   "name": "python",
   "version": "3.8.13"
  },
  "orig_nbformat": 4,
  "vscode": {
   "interpreter": {
    "hash": "789db2341d6bb42fceff0e0806b2ec41aaa251007a454bffa6047844d6d7fb39"
   }
  }
 },
 "nbformat": 4,
 "nbformat_minor": 2
}
